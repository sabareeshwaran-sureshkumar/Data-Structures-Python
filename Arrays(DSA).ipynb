{
  "nbformat": 4,
  "nbformat_minor": 0,
  "metadata": {
    "colab": {
      "provenance": []
    },
    "kernelspec": {
      "name": "python3",
      "display_name": "Python 3"
    },
    "language_info": {
      "name": "python"
    }
  },
  "cells": [
    {
      "cell_type": "code",
      "execution_count": 1,
      "metadata": {
        "id": "6MpDUXLaKp6o"
      },
      "outputs": [],
      "source": [
        "import array as arr"
      ]
    },
    {
      "cell_type": "code",
      "source": [
        "a=arr.array('i',[1,2,3])\n",
        "b=arr.array('d',[4.5,5.0,6.2,7.8])\n",
        "c=arr.array('u',['a','b','c','d'])"
      ],
      "metadata": {
        "id": "Q6_skASAKyYy"
      },
      "execution_count": 2,
      "outputs": []
    },
    {
      "cell_type": "code",
      "source": [
        "print(a)\n",
        "print(b)\n",
        "print(c)"
      ],
      "metadata": {
        "colab": {
          "base_uri": "https://localhost:8080/"
        },
        "id": "n1cQYakSLSEk",
        "outputId": "d8bea5e6-53e5-49d8-e8d1-33e8e632f23e"
      },
      "execution_count": 9,
      "outputs": [
        {
          "output_type": "stream",
          "name": "stdout",
          "text": [
            "array('i', [1, 2, 3])\n",
            "array('d', [4.5, 5.0, 6.2, 7.8])\n",
            "array('u', 'abcd')\n"
          ]
        }
      ]
    },
    {
      "cell_type": "code",
      "source": [
        "#finding the typecode of array\n",
        "print(a.typecode)\n",
        "print(b.typecode)\n",
        "print(c.typecode)"
      ],
      "metadata": {
        "colab": {
          "base_uri": "https://localhost:8080/"
        },
        "id": "zWUivod6LHdV",
        "outputId": "a1f9152d-c6bf-4721-8db0-74a29890e6d3"
      },
      "execution_count": 11,
      "outputs": [
        {
          "output_type": "stream",
          "name": "stdout",
          "text": [
            "i\n",
            "d\n",
            "u\n"
          ]
        }
      ]
    },
    {
      "cell_type": "code",
      "source": [
        "#length of array\n",
        "print(len(a))\n",
        "print(len(b))\n",
        "print(len(c))"
      ],
      "metadata": {
        "colab": {
          "base_uri": "https://localhost:8080/"
        },
        "id": "Yy1N8wM7Ln5B",
        "outputId": "7d949940-23e4-40f4-d35c-6e7e038102ef"
      },
      "execution_count": 12,
      "outputs": [
        {
          "output_type": "stream",
          "name": "stdout",
          "text": [
            "3\n",
            "4\n",
            "4\n"
          ]
        }
      ]
    },
    {
      "cell_type": "code",
      "source": [
        "#printing elements of array\n",
        "for i in range(len(a)):\n",
        "    print(a[i])"
      ],
      "metadata": {
        "colab": {
          "base_uri": "https://localhost:8080/"
        },
        "id": "A3F2-6k0Mg4o",
        "outputId": "b58a1316-3a77-4d53-ecfd-5ebdf12d7f5a"
      },
      "execution_count": 13,
      "outputs": [
        {
          "output_type": "stream",
          "name": "stdout",
          "text": [
            "1\n",
            "2\n",
            "3\n"
          ]
        }
      ]
    },
    {
      "cell_type": "code",
      "source": [
        "for i in range(len(c)):\n",
        "    print(c[i],end=\"-\")"
      ],
      "metadata": {
        "colab": {
          "base_uri": "https://localhost:8080/"
        },
        "id": "Ow9Woeo9NSsm",
        "outputId": "74d4e6c6-fa61-4542-8597-0a880e836715"
      },
      "execution_count": 15,
      "outputs": [
        {
          "output_type": "stream",
          "name": "stdout",
          "text": [
            "a-b-c-d-"
          ]
        }
      ]
    },
    {
      "cell_type": "code",
      "source": [
        "#indexing - accessing elements using index values\n",
        "new_array=arr.array('i',[1,8,3,25,5,7,23,18,9])\n",
        "print(new_array[5])"
      ],
      "metadata": {
        "colab": {
          "base_uri": "https://localhost:8080/"
        },
        "id": "J8qrMqW6NYCt",
        "outputId": "5de06bef-dd6b-4e5d-c9ac-0fab9eb4e153"
      },
      "execution_count": 31,
      "outputs": [
        {
          "output_type": "stream",
          "name": "stdout",
          "text": [
            "7\n"
          ]
        }
      ]
    },
    {
      "cell_type": "code",
      "source": [
        "#adding elements\n",
        "new_array.append(10)\n",
        "print(new_array)"
      ],
      "metadata": {
        "colab": {
          "base_uri": "https://localhost:8080/"
        },
        "id": "DXr7KFWAPCXo",
        "outputId": "e10ab034-62ec-4efa-e0ec-98b536329cb9"
      },
      "execution_count": 32,
      "outputs": [
        {
          "output_type": "stream",
          "name": "stdout",
          "text": [
            "array('i', [1, 8, 3, 25, 5, 7, 23, 18, 9, 10])\n"
          ]
        }
      ]
    },
    {
      "cell_type": "code",
      "source": [
        "new_array.insert(3,15)\n",
        "print(new_array)"
      ],
      "metadata": {
        "colab": {
          "base_uri": "https://localhost:8080/"
        },
        "id": "BNRHmNhGSo9B",
        "outputId": "3d5c0d89-dcc3-4bd3-f28c-dad30e7502fb"
      },
      "execution_count": 33,
      "outputs": [
        {
          "output_type": "stream",
          "name": "stdout",
          "text": [
            "array('i', [1, 8, 3, 15, 25, 5, 7, 23, 18, 9, 10])\n"
          ]
        }
      ]
    },
    {
      "cell_type": "code",
      "source": [
        "#updating the values\n",
        "new_array[0]=100\n",
        "print(new_array)"
      ],
      "metadata": {
        "colab": {
          "base_uri": "https://localhost:8080/"
        },
        "id": "VnQroguWStKi",
        "outputId": "91f2a829-63e9-4092-c6d2-c1692f43eabf"
      },
      "execution_count": 34,
      "outputs": [
        {
          "output_type": "stream",
          "name": "stdout",
          "text": [
            "array('i', [100, 8, 3, 15, 25, 5, 7, 23, 18, 9, 10])\n"
          ]
        }
      ]
    },
    {
      "cell_type": "code",
      "source": [
        "#Deleting the values\n",
        "new_array.pop()\n",
        "print(new_array)"
      ],
      "metadata": {
        "colab": {
          "base_uri": "https://localhost:8080/"
        },
        "id": "nVuGsfgsU8kK",
        "outputId": "5b581c61-94dc-49d8-96f2-c334b261e7d0"
      },
      "execution_count": 35,
      "outputs": [
        {
          "output_type": "stream",
          "name": "stdout",
          "text": [
            "array('i', [100, 8, 3, 15, 25, 5, 7, 23, 18, 9])\n"
          ]
        }
      ]
    },
    {
      "cell_type": "code",
      "source": [
        "new_array.pop(2)\n",
        "print(new_array)"
      ],
      "metadata": {
        "colab": {
          "base_uri": "https://localhost:8080/"
        },
        "id": "LtEnqXxNVB99",
        "outputId": "f666ca0b-c29d-4616-bfbf-bf23de0fd7b9"
      },
      "execution_count": 36,
      "outputs": [
        {
          "output_type": "stream",
          "name": "stdout",
          "text": [
            "array('i', [100, 8, 15, 25, 5, 7, 23, 18, 9])\n"
          ]
        }
      ]
    },
    {
      "cell_type": "code",
      "source": [
        "new_array.remove(18)\n",
        "print(new_array)"
      ],
      "metadata": {
        "colab": {
          "base_uri": "https://localhost:8080/"
        },
        "id": "nAD8aS68VF5I",
        "outputId": "c053bcfe-7247-45b1-9409-f79d09ece69f"
      },
      "execution_count": 37,
      "outputs": [
        {
          "output_type": "stream",
          "name": "stdout",
          "text": [
            "array('i', [100, 8, 15, 25, 5, 7, 23, 9])\n"
          ]
        }
      ]
    },
    {
      "cell_type": "code",
      "source": [
        "#slicing\n",
        "print(new_array[1:5])"
      ],
      "metadata": {
        "colab": {
          "base_uri": "https://localhost:8080/"
        },
        "id": "dlivBiSRV2Kl",
        "outputId": "dd163e17-8b48-4ae9-f300-4058dd9843c4"
      },
      "execution_count": 38,
      "outputs": [
        {
          "output_type": "stream",
          "name": "stdout",
          "text": [
            "array('i', [8, 15, 25, 5])\n"
          ]
        }
      ]
    },
    {
      "cell_type": "code",
      "source": [
        "print(new_array[3:-3])"
      ],
      "metadata": {
        "colab": {
          "base_uri": "https://localhost:8080/"
        },
        "id": "OJTDqIZAXPhF",
        "outputId": "13260d60-ab2b-472b-9d68-6f24e28144b1"
      },
      "execution_count": 40,
      "outputs": [
        {
          "output_type": "stream",
          "name": "stdout",
          "text": [
            "array('i', [25, 5])\n"
          ]
        }
      ]
    },
    {
      "cell_type": "code",
      "source": [
        "print(new_array[::-1])"
      ],
      "metadata": {
        "colab": {
          "base_uri": "https://localhost:8080/"
        },
        "id": "RjF3yU2HXj6j",
        "outputId": "95a6f756-b11d-4940-8b9b-9910a8c0ab58"
      },
      "execution_count": 41,
      "outputs": [
        {
          "output_type": "stream",
          "name": "stdout",
          "text": [
            "array('i', [9, 23, 7, 5, 25, 15, 8, 100])\n"
          ]
        }
      ]
    },
    {
      "cell_type": "code",
      "source": [
        "# Iterate from the end to the beginning of the array\n",
        "for i in range(-1, -len(new_array) - 1, -1):\n",
        "    print(i,new_array[i])"
      ],
      "metadata": {
        "colab": {
          "base_uri": "https://localhost:8080/"
        },
        "id": "AThq1z6XYD-8",
        "outputId": "86b07af2-d505-4f18-e0d9-082873ee7545"
      },
      "execution_count": 44,
      "outputs": [
        {
          "output_type": "stream",
          "name": "stdout",
          "text": [
            "-1 9\n",
            "-2 23\n",
            "-3 7\n",
            "-4 5\n",
            "-5 25\n",
            "-6 15\n",
            "-7 8\n",
            "-8 100\n"
          ]
        }
      ]
    },
    {
      "cell_type": "code",
      "source": [
        "print(new_array)"
      ],
      "metadata": {
        "colab": {
          "base_uri": "https://localhost:8080/"
        },
        "id": "lyA9VnbUdAzj",
        "outputId": "f59725be-c99e-4edb-c070-970d978f8c98"
      },
      "execution_count": 48,
      "outputs": [
        {
          "output_type": "stream",
          "name": "stdout",
          "text": [
            "array('i', [100, 8, 15, 25, 5, 7, 23, 9])\n"
          ]
        }
      ]
    },
    {
      "cell_type": "code",
      "source": [
        "for i in range(0,len(new_array)):\n",
        "    print(i,'->',new_array[i])"
      ],
      "metadata": {
        "colab": {
          "base_uri": "https://localhost:8080/"
        },
        "id": "o6tFkzNHdjn3",
        "outputId": "954073a2-786a-42d6-859e-77ee560c9929"
      },
      "execution_count": 50,
      "outputs": [
        {
          "output_type": "stream",
          "name": "stdout",
          "text": [
            "0 -> 100\n",
            "1 -> 8\n",
            "2 -> 15\n",
            "3 -> 25\n",
            "4 -> 5\n",
            "5 -> 7\n",
            "6 -> 23\n",
            "7 -> 9\n"
          ]
        }
      ]
    },
    {
      "cell_type": "code",
      "source": [
        "#finding the index\n",
        "print(new_array.index(5))"
      ],
      "metadata": {
        "colab": {
          "base_uri": "https://localhost:8080/"
        },
        "id": "M4VWZ-HCazps",
        "outputId": "3a88515d-1d8b-4c8f-e8fc-886bcad03ba1"
      },
      "execution_count": 45,
      "outputs": [
        {
          "output_type": "stream",
          "name": "stdout",
          "text": [
            "4\n"
          ]
        }
      ]
    },
    {
      "cell_type": "code",
      "source": [
        "element=25\n",
        "print(new_array.index(element),element)"
      ],
      "metadata": {
        "colab": {
          "base_uri": "https://localhost:8080/"
        },
        "id": "Ho99bqUcca8g",
        "outputId": "bd3d3f43-ce1a-44a5-c3d0-f5f2486534ff"
      },
      "execution_count": 47,
      "outputs": [
        {
          "output_type": "stream",
          "name": "stdout",
          "text": [
            "3 25\n"
          ]
        }
      ]
    },
    {
      "cell_type": "code",
      "source": [
        "#sorting\n",
        "sorted=new_array.tolist()\n",
        "sorted.sort()\n",
        "print(sorted)"
      ],
      "metadata": {
        "colab": {
          "base_uri": "https://localhost:8080/"
        },
        "id": "XSzwne1cc4Li",
        "outputId": "60de2b72-84c5-4f0c-af42-beb93503c493"
      },
      "execution_count": 53,
      "outputs": [
        {
          "output_type": "stream",
          "name": "stdout",
          "text": [
            "[5, 7, 8, 9, 15, 23, 25, 100]\n"
          ]
        }
      ]
    },
    {
      "cell_type": "code",
      "source": [
        "sorted.sort(reverse=True)\n",
        "print(sorted)"
      ],
      "metadata": {
        "colab": {
          "base_uri": "https://localhost:8080/"
        },
        "id": "If2RLOPOePF8",
        "outputId": "c84da135-a573-4850-e797-7fb1dd255954"
      },
      "execution_count": 54,
      "outputs": [
        {
          "output_type": "stream",
          "name": "stdout",
          "text": [
            "[100, 25, 23, 15, 9, 8, 7, 5]\n"
          ]
        }
      ]
    },
    {
      "cell_type": "markdown",
      "source": [
        "**NUMPY ARRAYS**"
      ],
      "metadata": {
        "id": "wpz377z5gITa"
      }
    },
    {
      "cell_type": "code",
      "source": [
        "import numpy as np"
      ],
      "metadata": {
        "id": "bmtor3HUefXj"
      },
      "execution_count": 55,
      "outputs": []
    },
    {
      "cell_type": "code",
      "source": [
        "array1=np.array([1,2,3,4,5])\n",
        "print(array1)"
      ],
      "metadata": {
        "colab": {
          "base_uri": "https://localhost:8080/"
        },
        "id": "773EjWnEgPd_",
        "outputId": "e0302d12-0013-479d-e837-a9aed9b1c128"
      },
      "execution_count": 56,
      "outputs": [
        {
          "output_type": "stream",
          "name": "stdout",
          "text": [
            "[1 2 3 4 5]\n"
          ]
        }
      ]
    },
    {
      "cell_type": "code",
      "source": [
        "#creating an matrix with zeros\n",
        "np.zeros((2,6))"
      ],
      "metadata": {
        "colab": {
          "base_uri": "https://localhost:8080/"
        },
        "id": "UeVgkEtAgUTR",
        "outputId": "788599de-62aa-41ad-996a-9976ea948776"
      },
      "execution_count": 61,
      "outputs": [
        {
          "output_type": "execute_result",
          "data": {
            "text/plain": [
              "array([[0., 0., 0., 0., 0., 0.],\n",
              "       [0., 0., 0., 0., 0., 0.]])"
            ]
          },
          "metadata": {},
          "execution_count": 61
        }
      ]
    },
    {
      "cell_type": "code",
      "source": [
        "#creating an matrix with ones\n",
        "np.ones((3,4))"
      ],
      "metadata": {
        "colab": {
          "base_uri": "https://localhost:8080/"
        },
        "id": "W2oKfjkrgXiR",
        "outputId": "399cf4d5-b86c-4d14-aab6-e090266c321e"
      },
      "execution_count": 63,
      "outputs": [
        {
          "output_type": "execute_result",
          "data": {
            "text/plain": [
              "array([[1., 1., 1., 1.],\n",
              "       [1., 1., 1., 1.],\n",
              "       [1., 1., 1., 1.]])"
            ]
          },
          "metadata": {},
          "execution_count": 63
        }
      ]
    },
    {
      "cell_type": "code",
      "source": [
        "#creating an matrix with constant values\n",
        "np.full((2,3),5)"
      ],
      "metadata": {
        "colab": {
          "base_uri": "https://localhost:8080/"
        },
        "id": "6CBd6_j2ggc8",
        "outputId": "1228191f-4ab0-41a5-86e6-9b1e23179680"
      },
      "execution_count": 65,
      "outputs": [
        {
          "output_type": "execute_result",
          "data": {
            "text/plain": [
              "array([[5, 5, 5],\n",
              "       [5, 5, 5]])"
            ]
          },
          "metadata": {},
          "execution_count": 65
        }
      ]
    },
    {
      "cell_type": "code",
      "source": [
        "#creating an identity matrix\n",
        "np.eye(4)"
      ],
      "metadata": {
        "colab": {
          "base_uri": "https://localhost:8080/"
        },
        "id": "V4hCGC-jglhK",
        "outputId": "1ea0d21a-f604-406a-efb9-f64853dad897"
      },
      "execution_count": 66,
      "outputs": [
        {
          "output_type": "execute_result",
          "data": {
            "text/plain": [
              "array([[1., 0., 0., 0.],\n",
              "       [0., 1., 0., 0.],\n",
              "       [0., 0., 1., 0.],\n",
              "       [0., 0., 0., 1.]])"
            ]
          },
          "metadata": {},
          "execution_count": 66
        }
      ]
    },
    {
      "cell_type": "code",
      "source": [
        "#1d,2d,3d numpy arrays\n",
        "zerod=np.array(1)\n",
        "print(zerod)\n",
        "\n"
      ],
      "metadata": {
        "colab": {
          "base_uri": "https://localhost:8080/"
        },
        "id": "LG8_iTBngqe4",
        "outputId": "d619f4fb-12c1-44b7-8a4d-355cda2f4f55"
      },
      "execution_count": 67,
      "outputs": [
        {
          "output_type": "stream",
          "name": "stdout",
          "text": [
            "1\n"
          ]
        }
      ]
    },
    {
      "cell_type": "code",
      "source": [
        "#1d array\n",
        "oned=np.array([1,2,3,4,5])\n",
        "print(oned)"
      ],
      "metadata": {
        "colab": {
          "base_uri": "https://localhost:8080/"
        },
        "id": "lGglg2APh68o",
        "outputId": "8aa48a07-1561-4d9b-bbee-4fe3ddc4489c"
      },
      "execution_count": 68,
      "outputs": [
        {
          "output_type": "stream",
          "name": "stdout",
          "text": [
            "[1 2 3 4 5]\n"
          ]
        }
      ]
    },
    {
      "cell_type": "code",
      "source": [
        "#2d array\n",
        "twod=np.array([\n",
        "    [1,2,3],\n",
        "     [4,5,6]\n",
        "    ])\n",
        "print(twod)"
      ],
      "metadata": {
        "colab": {
          "base_uri": "https://localhost:8080/"
        },
        "id": "53uMn-Qih_In",
        "outputId": "4f8f0887-19f8-4226-f3ad-c0153d13870b"
      },
      "execution_count": 69,
      "outputs": [
        {
          "output_type": "stream",
          "name": "stdout",
          "text": [
            "[[1 2 3]\n",
            " [4 5 6]]\n"
          ]
        }
      ]
    },
    {
      "cell_type": "code",
      "source": [
        "#3d array\n",
        "threed=np.array([\n",
        "    [\n",
        "        [1,2,3],\n",
        " [4,5,6]\n",
        "                  ],[\n",
        "                      [7,8,9],[10,11,12]\n",
        "                      ]\n",
        "    ])\n",
        "print(threed)"
      ],
      "metadata": {
        "colab": {
          "base_uri": "https://localhost:8080/"
        },
        "id": "sGtySRRkiDqF",
        "outputId": "165117f2-1087-48bc-c456-295feb444f68"
      },
      "execution_count": 70,
      "outputs": [
        {
          "output_type": "stream",
          "name": "stdout",
          "text": [
            "[[[ 1  2  3]\n",
            "  [ 4  5  6]]\n",
            "\n",
            " [[ 7  8  9]\n",
            "  [10 11 12]]]\n"
          ]
        }
      ]
    },
    {
      "cell_type": "code",
      "source": [
        "#multi dimensional array\n",
        "multi=np.array([1,2,3,4],ndmin=5)\n",
        "print(multi)"
      ],
      "metadata": {
        "colab": {
          "base_uri": "https://localhost:8080/"
        },
        "id": "jd6QCaioibNx",
        "outputId": "10f79d02-9e31-479e-cce7-78cb7a0b8140"
      },
      "execution_count": 71,
      "outputs": [
        {
          "output_type": "stream",
          "name": "stdout",
          "text": [
            "[[[[[1 2 3 4]]]]]\n"
          ]
        }
      ]
    },
    {
      "cell_type": "code",
      "source": [
        "multi.ndim"
      ],
      "metadata": {
        "colab": {
          "base_uri": "https://localhost:8080/"
        },
        "id": "2OKaza_SiiGA",
        "outputId": "e7788bcf-f0c1-466b-cbd9-d13688ba577c"
      },
      "execution_count": 72,
      "outputs": [
        {
          "output_type": "execute_result",
          "data": {
            "text/plain": [
              "5"
            ]
          },
          "metadata": {},
          "execution_count": 72
        }
      ]
    },
    {
      "cell_type": "code",
      "source": [
        "#CRUD operations on Numpy Arrays\n",
        "#reading from a numpy array\n",
        "sample_array = np.array([1,2,3,4,5,6,7,8,9,10])\n",
        "for i in range(0,len(sample_array)):\n",
        "  print(sample_array[i], end=\"\")\n",
        "print(\"\\n\")\n",
        "#updating elements in a numpy array, we make use of indexing here.\n",
        "sample_array[9] = 100\n",
        "print(sample_array)\n",
        "print(\"\\n\")\n",
        "#deleting elements in a numpy array\n",
        "sample_array = np.delete(sample_array, 9)\n",
        "print(sample_array)"
      ],
      "metadata": {
        "colab": {
          "base_uri": "https://localhost:8080/"
        },
        "id": "100naBeHkber",
        "outputId": "d2ef6b07-c072-471f-922f-842fc833c685"
      },
      "execution_count": 80,
      "outputs": [
        {
          "output_type": "stream",
          "name": "stdout",
          "text": [
            "12345678910\n",
            "\n",
            "[  1   2   3   4   5   6   7   8   9 100]\n",
            "\n",
            "\n",
            "[1 2 3 4 5 6 7 8 9]\n"
          ]
        }
      ]
    },
    {
      "cell_type": "code",
      "source": [
        "#searching elements in a numpy array\n",
        "y =list(range(0,20000,3))\n",
        "sample_search_array = np.array(y)\n",
        "#searching the element 15000\n",
        "res = np.where(sample_search_array==15000)\n",
        "print(res)\n",
        "#checking if the returning index is true\n",
        "print(sample_search_array[5000])"
      ],
      "metadata": {
        "colab": {
          "base_uri": "https://localhost:8080/"
        },
        "id": "y8W8VzE9kr4X",
        "outputId": "c4d4486b-b674-40a4-c7c4-7d46e402921b"
      },
      "execution_count": 81,
      "outputs": [
        {
          "output_type": "stream",
          "name": "stdout",
          "text": [
            "(array([5000]),)\n",
            "15000\n"
          ]
        }
      ]
    },
    {
      "cell_type": "code",
      "source": [
        "#sorting elements in a numpy array\n",
        "sample_sort_array = np.array([1,4,9,2,3,8,7,6])\n",
        " #sorting the numpy array using sort()\n",
        "z =np.sort(sample_sort_array)\n",
        "print(z)"
      ],
      "metadata": {
        "colab": {
          "base_uri": "https://localhost:8080/"
        },
        "id": "_zJ94HUbl4KW",
        "outputId": "cff82fa7-61d9-4763-c063-1399ce7b81f7"
      },
      "execution_count": 83,
      "outputs": [
        {
          "output_type": "stream",
          "name": "stdout",
          "text": [
            "[1 2 3 4 6 7 8 9]\n"
          ]
        }
      ]
    },
    {
      "cell_type": "code",
      "source": [],
      "metadata": {
        "id": "1Ha_1_kkmV43"
      },
      "execution_count": null,
      "outputs": []
    }
  ]
}